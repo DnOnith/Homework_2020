{
 "cells": [
  {
   "cell_type": "code",
   "execution_count": 14,
   "metadata": {},
   "outputs": [
    {
     "ename": "KeyboardInterrupt",
     "evalue": "",
     "output_type": "error",
     "traceback": [
      "\u001b[1;31m---------------------------------------------------------------------------\u001b[0m",
      "\u001b[1;31mKeyboardInterrupt\u001b[0m                         Traceback (most recent call last)",
      "Cell \u001b[1;32mIn[14], line 26\u001b[0m\n\u001b[0;32m     24\u001b[0m     \u001b[38;5;28;01mreturn\u001b[39;00m \u001b[38;5;28mmax\u001b[39m\n\u001b[0;32m     25\u001b[0m test_sq \u001b[38;5;241m=\u001b[39m [\u001b[38;5;241m-\u001b[39m\u001b[38;5;241m2\u001b[39m, \u001b[38;5;241m1\u001b[39m, \u001b[38;5;241m7\u001b[39m, \u001b[38;5;241m-\u001b[39m\u001b[38;5;241m4\u001b[39m, \u001b[38;5;241m5\u001b[39m, \u001b[38;5;241m2\u001b[39m, \u001b[38;5;241m-\u001b[39m\u001b[38;5;241m3\u001b[39m, \u001b[38;5;241m-\u001b[39m\u001b[38;5;241m6\u001b[39m, \u001b[38;5;241m4\u001b[39m, \u001b[38;5;241m3\u001b[39m, \u001b[38;5;241m-\u001b[39m\u001b[38;5;241m8\u001b[39m, \u001b[38;5;241m-\u001b[39m\u001b[38;5;241m1\u001b[39m, \u001b[38;5;241m6\u001b[39m, \u001b[38;5;241m-\u001b[39m\u001b[38;5;241m7\u001b[39m, \u001b[38;5;241m-\u001b[39m\u001b[38;5;241m9\u001b[39m, \u001b[38;5;241m-\u001b[39m\u001b[38;5;241m5\u001b[39m]\n\u001b[1;32m---> 26\u001b[0m \u001b[38;5;28mprint\u001b[39m(\u001b[43mmax_sequence\u001b[49m\u001b[43m(\u001b[49m\u001b[43mlarge_array\u001b[49m\u001b[43m)\u001b[49m)\n\u001b[0;32m     28\u001b[0m \u001b[38;5;66;03m#** Working, but it is quite slow on large data sets\u001b[39;00m\n",
      "Cell \u001b[1;32mIn[14], line 18\u001b[0m, in \u001b[0;36mmax_sequence\u001b[1;34m(x)\u001b[0m\n\u001b[0;32m     16\u001b[0m \u001b[38;5;28;01mfor\u001b[39;00m k \u001b[38;5;129;01min\u001b[39;00m \u001b[38;5;28mrange\u001b[39m(i, j):\n\u001b[0;32m     17\u001b[0m     s \u001b[38;5;241m+\u001b[39m\u001b[38;5;241m=\u001b[39m x[k]\n\u001b[1;32m---> 18\u001b[0m     q\u001b[38;5;241m.\u001b[39mappend(x[k])\n\u001b[0;32m     19\u001b[0m \u001b[38;5;28;01mif\u001b[39;00m s \u001b[38;5;241m>\u001b[39m \u001b[38;5;28mmax\u001b[39m[\u001b[38;5;124m'\u001b[39m\u001b[38;5;124msum\u001b[39m\u001b[38;5;124m'\u001b[39m]:\n\u001b[0;32m     20\u001b[0m     \u001b[38;5;28mmax\u001b[39m[\u001b[38;5;124m'\u001b[39m\u001b[38;5;124mstarting index\u001b[39m\u001b[38;5;124m'\u001b[39m] \u001b[38;5;241m=\u001b[39m i\n",
      "\u001b[1;31mKeyboardInterrupt\u001b[0m: "
     ]
    }
   ],
   "source": [
    "def max_sequence(x: []):\n",
    "    max = {'starting index': 0, 'ending index': 0, 'sum': 0, 'Sequence': []}\n",
    "    for i in range(0, len(x)-1):\n",
    "        for j in range(i, len(x)):\n",
    "            s = 0\n",
    "            q = []\n",
    "            for k in range(i, j):\n",
    "                s += x[k]\n",
    "                q.append(k)\n",
    "            if s > max['sum']:\n",
    "                max['starting index'] = i\n",
    "                max['ending index'] = j\n",
    "                max['sum'] = s\n",
    "                max['Sequence'] = q\n",
    "    return max\n",
    "t = [-2, 1, 7, -4, 5, 2, -3, -6, 4, 3, -8, -1, 6, -7, -9, -5]\n",
    "print(max_sequence(t))\n",
    "\n",
    "#** Working, but it is quite slow on large data sets"
   ]
  },
  {
   "cell_type": "code",
   "execution_count": null,
   "metadata": {},
   "outputs": [],
   "source": []
  },
  {
   "cell_type": "code",
   "execution_count": 9,
   "metadata": {},
   "outputs": [
    {
     "name": "stdout",
     "output_type": "stream",
     "text": [
      "{'starting index': -1, 'ending index': 2, 'sum': 6}\n"
     ]
    }
   ],
   "source": [
    "def subSum(x: [], i, j):\n",
    "    s = 0\n",
    "    for k in range (i, j+1):\n",
    "        s += x[k]\n",
    "    return s\n",
    "\n",
    "def mxsq(x:[]):\n",
    "    max = {'starting index': 0, 'ending index': 0, 'sum': 0}\n",
    "    i = 0 \n",
    "    j = 1\n",
    "    m = subSum(x, i, j)\n",
    "    j += 1\n",
    "    while subSum(x, i, j) >= m:\n",
    "        m = subSum(x, i, j)\n",
    "        j += 1\n",
    "    max['ending index'] = j-1\n",
    "    while subSum(x, i, j) >= m:\n",
    "        m = subSum(x, i, j)\n",
    "        i += 1\n",
    "    max['starting index'] = i-1\n",
    "    max['sum'] = m\n",
    "    return max\n",
    "print(mxsq([-2, 1, 7, -4, 5, 2, -3, -6, 4, 3, -8, -1, 6, -7, -9, -5]))\n",
    "#*! not working"
   ]
  },
  {
   "cell_type": "code",
   "execution_count": 11,
   "metadata": {},
   "outputs": [
    {
     "name": "stdout",
     "output_type": "stream",
     "text": [
      "(492, 917, 23213)\n"
     ]
    }
   ],
   "source": [
    "import random\n",
    "\n",
    "# Generate a large array of random integers\n",
    "def generate_large_array(size, min_val=-1000, max_val=1000):\n",
    "    return [random.randint(min_val, max_val) for _ in range(size)]\n",
    "\n",
    "# Example usage:\n",
    "large_array = generate_large_array(10**6)\n",
    "\n",
    "\n",
    "test_sq = [-2, 1, 7, -4, 5, 2, -3, -6, 4, 3, -8, -1, 6, -7, -9, -5]\n",
    "\n",
    "\n",
    "def subSum(x: [], n, m):\n",
    "    s = 0\n",
    "    for k in range (n, m+1):\n",
    "        s += x[k]\n",
    "    return s\n",
    "def mxsq(x):\n",
    "    start = 0\n",
    "    end = 1\n",
    "    max = 0\n",
    "    for i in x:\n",
    "        if subSum(x,start,i) >= max:\n",
    "            end = i\n",
    "            max = subSum(x, start, end)\n",
    "    for i in x:\n",
    "        if subSum(x, i, end) >= max:\n",
    "            start = i\n",
    "            max = subSum(x, start, end)\n",
    "    return start, end, max\n",
    "\n",
    "print(mxsq(large_array))\n",
    "\n",
    "#** better, but still slow"
   ]
  },
  {
   "cell_type": "code",
   "execution_count": 2,
   "metadata": {},
   "outputs": [
    {
     "name": "stdout",
     "output_type": "stream",
     "text": [
      "(373812, 989309, 699690)\n"
     ]
    }
   ],
   "source": [
    "import random\n",
    "\n",
    "# Generate a large array of random integers\n",
    "def generate_large_array(size, min_val=-1000, max_val=1000):\n",
    "    return [random.randint(min_val, max_val) for _ in range(size)]\n",
    "\n",
    "# Example usage:\n",
    "large_array = generate_large_array(10**6)\n",
    "\n",
    "def max_subarray_sum(arr):\n",
    "    max_sum = float('-inf')\n",
    "    start_index = 0\n",
    "    end_index = 1\n",
    "    current_sum = 0\n",
    "    temp_start_index = 0\n",
    "    for i, sum in enumerate(arr):\n",
    "        current_sum += sum\n",
    "\n",
    "        if current_sum > max_sum:\n",
    "            max_sum = current_sum\n",
    "            end_index = i\n",
    "            start_index = temp_start_index\n",
    "        if current_sum < 0:\n",
    "            current_sum = 0\n",
    "            temp_start_index = i + 1\n",
    "            #when the sum is less than zero, adding i will only make the sum worse, thus we set the new start at i+1 to exclude it\n",
    "    return start_index, end_index, max_sum\n",
    "# Example usage:\n",
    "print(max_subarray_sum(large_array))\n",
    "\n",
    "#like 60x faster\n"
   ]
  }
 ],
 "metadata": {
  "kernelspec": {
   "display_name": "Python 3",
   "language": "python",
   "name": "python3"
  },
  "language_info": {
   "codemirror_mode": {
    "name": "ipython",
    "version": 3
   },
   "file_extension": ".py",
   "mimetype": "text/x-python",
   "name": "python",
   "nbconvert_exporter": "python",
   "pygments_lexer": "ipython3",
   "version": "3.10.6"
  }
 },
 "nbformat": 4,
 "nbformat_minor": 2
}
