{
 "cells": [
  {
   "cell_type": "code",
   "execution_count": 5,
   "metadata": {},
   "outputs": [
    {
     "name": "stdout",
     "output_type": "stream",
     "text": [
      "{'starting index': 1, 'ending index': 6, 'sum': 11, 'Sequence': [1, 2, 3, 4, 5]}\n"
     ]
    }
   ],
   "source": [
    "def max_sequence(x: []):\n",
    "    max = {'starting index': 0, 'ending index': 0, 'sum': 0, 'Sequence': []}\n",
    "    for i in range(0, len(x)-1):\n",
    "        for j in range(i, len(x)):\n",
    "            s = 0\n",
    "            q = []\n",
    "            for k in range(i, j):\n",
    "                s += x[k]\n",
    "                q.append(k)\n",
    "            if s > max['sum']:\n",
    "                max['starting index'] = i\n",
    "                max['ending index'] = j\n",
    "                max['sum'] = s\n",
    "                max['Sequence'] = q\n",
    "    return max\n",
    "t = [-2, 1, 7, -4, 5, 2, -3, -6, 4, 3, -8, -1, 6, -7, -9, -5]\n",
    "print(max_sequence(t))\n"
   ]
  },
  {
   "cell_type": "code",
   "execution_count": 9,
   "metadata": {},
   "outputs": [
    {
     "name": "stdout",
     "output_type": "stream",
     "text": [
      "{'starting index': -1, 'ending index': 2, 'sum': 6}\n"
     ]
    }
   ],
   "source": [
    "def subSum(x: [], i, j):\n",
    "    s = 0\n",
    "    for k in range (i, j+1):\n",
    "        s += x[k]\n",
    "    return s\n",
    "\n",
    "def mxsq(x:[]):\n",
    "    max = {'starting index': 0, 'ending index': 0, 'sum': 0}\n",
    "    i = 0 \n",
    "    j = 1\n",
    "    m = subSum(x, i, j)\n",
    "    j += 1\n",
    "    while subSum(x, i, j) >= m:\n",
    "        m = subSum(x, i, j)\n",
    "        j += 1\n",
    "    max['ending index'] = j-1\n",
    "    while subSum(x, i, j) >= m:\n",
    "        m = subSum(x, i, j)\n",
    "        i += 1\n",
    "    max['starting index'] = i-1\n",
    "    max['sum'] = m\n",
    "    return max\n",
    "print(mxsq([-2, 1, 7, -4, 5, 2, -3, -6, 4, 3, -8, -1, 6, -7, -9, -5]))"
   ]
  }
 ],
 "metadata": {
  "kernelspec": {
   "display_name": "Python 3",
   "language": "python",
   "name": "python3"
  },
  "language_info": {
   "codemirror_mode": {
    "name": "ipython",
    "version": 3
   },
   "file_extension": ".py",
   "mimetype": "text/x-python",
   "name": "python",
   "nbconvert_exporter": "python",
   "pygments_lexer": "ipython3",
   "version": "3.10.6"
  }
 },
 "nbformat": 4,
 "nbformat_minor": 2
}
