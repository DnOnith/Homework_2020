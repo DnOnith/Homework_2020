{
 "cells": [
  {
   "cell_type": "code",
   "execution_count": 1,
   "metadata": {},
   "outputs": [
    {
     "name": "stdout",
     "output_type": "stream",
     "text": [
      "{'starting index': 1, 'ending index': 6, 'sum': 11, 'Sequence': [1, 7, -4, 5, 2]}\n"
     ]
    }
   ],
   "source": [
    "def max_sequence(x: []):\n",
    "    max = {'starting index': 0, 'ending index': 0, 'sum': 0, 'Sequence': []}\n",
    "    for i in range(0, len(x)-1):\n",
    "        for j in range(i, len(x)):\n",
    "            s = 0\n",
    "            q = []\n",
    "            for k in range(i, j):\n",
    "                s += x[k]\n",
    "                q.append(x[k])\n",
    "            if s > max['sum']:\n",
    "                max['starting index'] = i\n",
    "                max['ending index'] = j - 1\n",
    "                max['sum'] = s\n",
    "                max['Sequence'] = q\n",
    "    return max\n",
    "test_sq = [-2, 1, 7, -4, 5, 2, -3, -6, 4, 3, -8, -1, 6, -7, -9, -5]\n",
    "print(max_sequence(test_sq))\n",
    "\n",
    "#** Working, but it is quite slow on large data sets"
   ]
  },
  {
   "cell_type": "code",
   "execution_count": 9,
   "metadata": {},
   "outputs": [
    {
     "name": "stdout",
     "output_type": "stream",
     "text": [
      "{'starting index': -1, 'ending index': 2, 'sum': 6}\n"
     ]
    }
   ],
   "source": [
    "def subSum(x: [], i, j):\n",
    "    s = 0\n",
    "    for k in range (i, j+1):\n",
    "        s += x[k]\n",
    "    return s\n",
    "\n",
    "def mxsq(x:[]):\n",
    "    max = {'starting index': 0, 'ending index': 0, 'sum': 0}\n",
    "    i = 0 \n",
    "    j = 1\n",
    "    m = subSum(x, i, j)\n",
    "    j += 1\n",
    "    while subSum(x, i, j) >= m:\n",
    "        m = subSum(x, i, j)\n",
    "        j += 1\n",
    "    max['ending index'] = j-1\n",
    "    while subSum(x, i, j) >= m:\n",
    "        m = subSum(x, i, j)\n",
    "        i += 1\n",
    "    max['starting index'] = i-1\n",
    "    max['sum'] = m\n",
    "    return max\n",
    "print(mxsq([-2, 1, 7, -4, 5, 2, -3, -6, 4, 3, -8, -1, 6, -7, -9, -5]))\n",
    "#*! not working"
   ]
  },
  {
   "cell_type": "code",
   "execution_count": 11,
   "metadata": {},
   "outputs": [
    {
     "name": "stdout",
     "output_type": "stream",
     "text": [
      "(492, 917, 23213)\n"
     ]
    }
   ],
   "source": [
    "import random\n",
    "\n",
    "# Generate a large array of random integers\n",
    "def generate_large_array(size, min_val=-1000, max_val=1000):\n",
    "    return [random.randint(min_val, max_val) for _ in range(size)]\n",
    "\n",
    "# Example usage:\n",
    "large_array = generate_large_array(10**6)\n",
    "\n",
    "\n",
    "test_sq = [-2, 1, 7, -4, 5, 2, -3, -6, 4, 3, -8, -1, 6, -7, -9, -5]\n",
    "\n",
    "\n",
    "def subSum(x: [], n, m):\n",
    "    s = 0\n",
    "    for k in range (n, m+1):\n",
    "        s += x[k]\n",
    "    return s\n",
    "def mxsq(x):\n",
    "    start = 0\n",
    "    end = 1\n",
    "    max = 0\n",
    "    for i in x:\n",
    "        if subSum(x,start,i) >= max:\n",
    "            end = i\n",
    "            max = subSum(x, start, end)\n",
    "    for i in x:\n",
    "        if subSum(x, i, end) >= max:\n",
    "            start = i\n",
    "            max = subSum(x, start, end)\n",
    "    return start, end, max\n",
    "\n",
    "print(mxsq(large_array))"
   ]
  },
  {
   "cell_type": "code",
   "execution_count": 13,
   "metadata": {},
   "outputs": [
    {
     "name": "stdout",
     "output_type": "stream",
     "text": [
      "(187973, 771955, 892548)\n"
     ]
    }
   ],
   "source": [
    "import random\n",
    "\n",
    "# Generate a large array of random integers\n",
    "def generate_large_array(size, min_val=-1000, max_val=1000):\n",
    "    return [random.randint(min_val, max_val) for _ in range(size)]\n",
    "\n",
    "# Example usage:\n",
    "large_array = generate_large_array(10**6)\n",
    "\n",
    "def max_subarray_sum(arr):\n",
    "    max_sum = float('-inf')\n",
    "# Example usage:\n",
    "print(max_subarray_sum(large_array))\n"
   ]
  }
 ],
 "metadata": {
  "kernelspec": {
   "display_name": "Python 3",
   "language": "python",
   "name": "python3"
  },
  "language_info": {
   "codemirror_mode": {
    "name": "ipython",
    "version": 3
   },
   "file_extension": ".py",
   "mimetype": "text/x-python",
   "name": "python",
   "nbconvert_exporter": "python",
   "pygments_lexer": "ipython3",
   "version": "3.10.6"
  }
 },
 "nbformat": 4,
 "nbformat_minor": 2
}
